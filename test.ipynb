{
 "cells": [
  {
   "cell_type": "code",
   "execution_count": null,
   "id": "919f7ede",
   "metadata": {},
   "outputs": [],
   "source": [
    "# from openai import OpenAI\n",
    "# from pydantic import BaseModel, Field\n",
    "# from typing import List\n",
    "# import os\n",
    "# import instructor\n",
    "# from rag.vector import ChromaRag\n",
    "\n",
    "# class Character(BaseModel):\n",
    "#     name: str\n",
    "#     description: int\n",
    "#     fact: List[str] = Field(..., description=\"A list of facts about the character\")\n",
    "\n",
    "# class Answer(BaseModel):\n",
    "#     answer: str = Field(..., description=\"Exact requirement as per the user's query.\")\n",
    "#     references: List[str] = Field(..., description=\"Key points or facts pulled from the documents. Include Metadata if available.\")\n",
    "\n",
    "# client = instructor.from_openai(\n",
    "#     OpenAI(\n",
    "#         base_url=\"http://localhost:11434/v1\",\n",
    "#         api_key=\"ollama\",  \n",
    "#     ),\n",
    "#     mode=instructor.Mode.JSON,\n",
    "# )\n",
    "\n",
    "# mdoel_embed = \"mxbai-embed-large\"\n",
    "# model_chat = \"llama3.1:8b\"\n",
    "# db_path = \"markdown_db\"\n",
    "# source_dir = r\"C:\\Users\\shive\\OneDrive\\Documents\\DnD\\Adventures\\Stone-Heart Hollow\"\n",
    "# top_k = 5\n",
    "\n",
    "# collection_name = os.path.basename(source_dir)\n",
    "# chroma_rag = ChromaRag(\n",
    "#         source_directory=source_dir,\n",
    "#         collection_name=collection_name,\n",
    "#         db_path=db_path,\n",
    "#         model_name=mdoel_embed\n",
    "#     )\n",
    "\n",
    "# question = \"What was in the letter sent to Councillor Bren?\"\n",
    "# docs, ids, metadata = chroma_rag.retrieve(question, k=top_k)\n",
    "# docs_text = \"\\n---\\n\".join(docs)\n",
    "# # print(docs)\n",
    "# prompt = f\"\"\"\n",
    "#     ==================\n",
    "#     You are a virtual assistant for a Dungeon Master running Dungeons & Dragons (D&D) sessions.\n",
    "\n",
    "#     - Helping prepare and run sessions by providing ideas, rules clarifications, encounter design, and narrative suggestions.\n",
    "\n",
    "#     - Answering questions using provided campaign documents, focusing only on the relevant content.\n",
    "\n",
    "#     - If no documents are provided, rely on your general D&D knowledge (primarily 5th Edition unless specified).\n",
    "\n",
    "#     Be accurate, concise, and helpful. Prioritize clarity when referencing documents. Prioritize clarity and creativity when assisting with gameplay and storytelling.\n",
    "#     ==================\n",
    "\n",
    "#     ==================\n",
    "#     DOCUMENT CONTEXT:\n",
    "#     {docs_text}\n",
    "#     ==================\n",
    "\n",
    "#     ==================\n",
    "#     Query:\n",
    "#     {question}\n",
    "#     ==================\n",
    "# \"\"\"\n",
    "\n",
    "# resp = client.chat.completions.create(\n",
    "#     model=\"gemma3\",\n",
    "#     messages=[\n",
    "#         {\n",
    "#             \"role\": \"user\",\n",
    "#             \"content\": prompt,\n",
    "#         }\n",
    "#     ],\n",
    "#     response_model=Answer,\n",
    "# )\n",
    "# print(resp.model_dump_json(indent=2))\n"
   ]
  },
  {
   "cell_type": "code",
   "execution_count": 1,
   "id": "a587cc45",
   "metadata": {},
   "outputs": [
    {
     "name": "stdout",
     "output_type": "stream",
     "text": [
      "{\n",
      "  \"answer\": \"The letter warned of judgement coming, saying that Councilor Bren needs to flee the Hollow or face a stone-cold gaze and an eternal fate.\",\n",
      "  \"references\": [\n",
      "    \"Letter from Kern to Councillor Bren\",\n",
      "    \"'You sealed the wound, but not the rot beneath.' - The letter\"\n",
      "  ]\n",
      "}\n"
     ]
    }
   ],
   "source": [
    "from rag.vector import ChromaRag\n",
    "from llm.responses import *\n",
    "import os\n",
    "\n",
    "model_embed = \"mxbai-embed-large\"\n",
    "model_chat = \"llama3.1:8b\"\n",
    "db_path = \"markdown_db\"\n",
    "source_dir = r\"C:\\Users\\shive\\OneDrive\\Documents\\DnD\\Adventures\\Stone-Heart Hollow\"\n",
    "top_k = 5\n",
    "\n",
    "collection_name = os.path.basename(source_dir)\n",
    "chroma_rag = ChromaRag(\n",
    "        source_directory=source_dir,\n",
    "        collection_name=collection_name,\n",
    "        db_path=db_path,\n",
    "        model_name=model_embed\n",
    "    )\n",
    "\n",
    "instructor_assistant = InstructorAssistant(model=model_chat)\n",
    "\n",
    "question = \"What was in the letter sent to Councillor Bren?\"\n",
    "docs, ids, metadata = chroma_rag.retrieve(question, k=top_k)\n",
    "\n",
    "response = instructor_assistant.ask(question=question, context=docs, response_model=Answer)\n",
    "print(response.model_dump_json(indent=2))"
   ]
  },
  {
   "cell_type": "code",
   "execution_count": 2,
   "id": "69173700",
   "metadata": {},
   "outputs": [
    {
     "name": "stdout",
     "output_type": "stream",
     "text": [
      "{\n",
      "  \"name\": \"Old Fenya\",\n",
      "  \"race\": \"halfling\",\n",
      "  \"role\": \"retired miner and tavern owner\",\n",
      "  \"description\": \"has a glass eye and a sharp tongue, owns the Mine Down Tavern where rumors of ‘statue-men’ and cursed stones swirl over sour ale\",\n",
      "  \"motivation\": \"united the townspeople against Kern's activities in the quarry\",\n",
      "  \"secret\": \"Fenya was involved in the initial suppression of the cult, but the authorities found no evidence\"\n",
      "}\n"
     ]
    }
   ],
   "source": [
    "question = \"Make a new town character for Gallowmere\"\n",
    "docs, ids, metadata = chroma_rag.retrieve(question, k=20)\n",
    "\n",
    "response = instructor_assistant.ask(question=question, context=docs, response_model=NPC)\n",
    "print(response.model_dump_json(indent=2))"
   ]
  },
  {
   "cell_type": "code",
   "execution_count": null,
   "id": "fe64e777",
   "metadata": {},
   "outputs": [
    {
     "ename": "InstructorRetryException",
     "evalue": "Failed to validate model NPCList: 1 validation error for NPCList\n  Input should be a valid array [type=list_type, input_value={'$schema': 'https://json...'NPC', 'type': 'object'}, input_type=dict]\n    For further information visit https://errors.pydantic.dev/2.11/v/list_type",
     "output_type": "error",
     "traceback": [
      "\u001b[31m---------------------------------------------------------------------------\u001b[39m",
      "\u001b[31mValidationError\u001b[39m                           Traceback (most recent call last)",
      "\u001b[36mFile \u001b[39m\u001b[32mc:\\Users\\shive\\OneDrive\\Documents\\Python\\DMI\\venv\\Lib\\site-packages\\instructor\\function_calls.py:83\u001b[39m, in \u001b[36m_validate_model_from_json\u001b[39m\u001b[34m(cls, json_str, validation_context, strict)\u001b[39m\n\u001b[32m     82\u001b[39m \u001b[38;5;28;01mif\u001b[39;00m strict:\n\u001b[32m---> \u001b[39m\u001b[32m83\u001b[39m     \u001b[38;5;28;01mreturn\u001b[39;00m \u001b[38;5;28;43mcls\u001b[39;49m\u001b[43m.\u001b[49m\u001b[43mmodel_validate_json\u001b[49m\u001b[43m(\u001b[49m\n\u001b[32m     84\u001b[39m \u001b[43m        \u001b[49m\u001b[43mjson_str\u001b[49m\u001b[43m,\u001b[49m\u001b[43m \u001b[49m\u001b[43mcontext\u001b[49m\u001b[43m=\u001b[49m\u001b[43mvalidation_context\u001b[49m\u001b[43m,\u001b[49m\u001b[43m \u001b[49m\u001b[43mstrict\u001b[49m\u001b[43m=\u001b[49m\u001b[38;5;28;43;01mTrue\u001b[39;49;00m\n\u001b[32m     85\u001b[39m \u001b[43m    \u001b[49m\u001b[43m)\u001b[49m\n\u001b[32m     86\u001b[39m \u001b[38;5;28;01melse\u001b[39;00m:\n\u001b[32m     87\u001b[39m     \u001b[38;5;66;03m# Allow control characters\u001b[39;00m\n",
      "\u001b[36mFile \u001b[39m\u001b[32mc:\\Users\\shive\\OneDrive\\Documents\\Python\\DMI\\venv\\Lib\\site-packages\\pydantic\\main.py:746\u001b[39m, in \u001b[36mBaseModel.model_validate_json\u001b[39m\u001b[34m(cls, json_data, strict, context, by_alias, by_name)\u001b[39m\n\u001b[32m    741\u001b[39m     \u001b[38;5;28;01mraise\u001b[39;00m PydanticUserError(\n\u001b[32m    742\u001b[39m         \u001b[33m'\u001b[39m\u001b[33mAt least one of `by_alias` or `by_name` must be set to True.\u001b[39m\u001b[33m'\u001b[39m,\n\u001b[32m    743\u001b[39m         code=\u001b[33m'\u001b[39m\u001b[33mvalidate-by-alias-and-name-false\u001b[39m\u001b[33m'\u001b[39m,\n\u001b[32m    744\u001b[39m     )\n\u001b[32m--> \u001b[39m\u001b[32m746\u001b[39m \u001b[38;5;28;01mreturn\u001b[39;00m \u001b[38;5;28;43mcls\u001b[39;49m\u001b[43m.\u001b[49m\u001b[43m__pydantic_validator__\u001b[49m\u001b[43m.\u001b[49m\u001b[43mvalidate_json\u001b[49m\u001b[43m(\u001b[49m\n\u001b[32m    747\u001b[39m \u001b[43m    \u001b[49m\u001b[43mjson_data\u001b[49m\u001b[43m,\u001b[49m\u001b[43m \u001b[49m\u001b[43mstrict\u001b[49m\u001b[43m=\u001b[49m\u001b[43mstrict\u001b[49m\u001b[43m,\u001b[49m\u001b[43m \u001b[49m\u001b[43mcontext\u001b[49m\u001b[43m=\u001b[49m\u001b[43mcontext\u001b[49m\u001b[43m,\u001b[49m\u001b[43m \u001b[49m\u001b[43mby_alias\u001b[49m\u001b[43m=\u001b[49m\u001b[43mby_alias\u001b[49m\u001b[43m,\u001b[49m\u001b[43m \u001b[49m\u001b[43mby_name\u001b[49m\u001b[43m=\u001b[49m\u001b[43mby_name\u001b[49m\n\u001b[32m    748\u001b[39m \u001b[43m\u001b[49m\u001b[43m)\u001b[49m\n",
      "\u001b[31mValidationError\u001b[39m: 1 validation error for NPCList\n  Input should be a valid array [type=list_type, input_value={'$schema': 'https://json...'NPC', 'type': 'object'}, input_type=dict]\n    For further information visit https://errors.pydantic.dev/2.11/v/list_type",
      "\nThe above exception was the direct cause of the following exception:\n",
      "\u001b[31mValidationError\u001b[39m                           Traceback (most recent call last)",
      "\u001b[36mFile \u001b[39m\u001b[32mc:\\Users\\shive\\OneDrive\\Documents\\Python\\DMI\\venv\\Lib\\site-packages\\instructor\\retry.py:192\u001b[39m, in \u001b[36mretry_sync\u001b[39m\u001b[34m(func, response_model, args, kwargs, context, max_retries, strict, mode, hooks)\u001b[39m\n\u001b[32m    188\u001b[39m     response = update_total_usage(\n\u001b[32m    189\u001b[39m         response=response, total_usage=total_usage\n\u001b[32m    190\u001b[39m     )\n\u001b[32m--> \u001b[39m\u001b[32m192\u001b[39m     \u001b[38;5;28;01mreturn\u001b[39;00m \u001b[43mprocess_response\u001b[49m\u001b[43m(\u001b[49m\u001b[43m  \u001b[49m\u001b[38;5;66;43;03m# type: ignore\u001b[39;49;00m\n\u001b[32m    193\u001b[39m \u001b[43m        \u001b[49m\u001b[43mresponse\u001b[49m\u001b[43m=\u001b[49m\u001b[43mresponse\u001b[49m\u001b[43m,\u001b[49m\n\u001b[32m    194\u001b[39m \u001b[43m        \u001b[49m\u001b[43mresponse_model\u001b[49m\u001b[43m=\u001b[49m\u001b[43mresponse_model\u001b[49m\u001b[43m,\u001b[49m\n\u001b[32m    195\u001b[39m \u001b[43m        \u001b[49m\u001b[43mvalidation_context\u001b[49m\u001b[43m=\u001b[49m\u001b[43mcontext\u001b[49m\u001b[43m,\u001b[49m\n\u001b[32m    196\u001b[39m \u001b[43m        \u001b[49m\u001b[43mstrict\u001b[49m\u001b[43m=\u001b[49m\u001b[43mstrict\u001b[49m\u001b[43m,\u001b[49m\n\u001b[32m    197\u001b[39m \u001b[43m        \u001b[49m\u001b[43mmode\u001b[49m\u001b[43m=\u001b[49m\u001b[43mmode\u001b[49m\u001b[43m,\u001b[49m\n\u001b[32m    198\u001b[39m \u001b[43m        \u001b[49m\u001b[43mstream\u001b[49m\u001b[43m=\u001b[49m\u001b[43mstream\u001b[49m\u001b[43m,\u001b[49m\n\u001b[32m    199\u001b[39m \u001b[43m    \u001b[49m\u001b[43m)\u001b[49m\n\u001b[32m    200\u001b[39m \u001b[38;5;28;01mexcept\u001b[39;00m (ValidationError, JSONDecodeError) \u001b[38;5;28;01mas\u001b[39;00m e:\n",
      "\u001b[36mFile \u001b[39m\u001b[32mc:\\Users\\shive\\OneDrive\\Documents\\Python\\DMI\\venv\\Lib\\site-packages\\instructor\\process_response.py:171\u001b[39m, in \u001b[36mprocess_response\u001b[39m\u001b[34m(response, response_model, stream, validation_context, strict, mode)\u001b[39m\n\u001b[32m    169\u001b[39m     \u001b[38;5;28;01mreturn\u001b[39;00m model\n\u001b[32m--> \u001b[39m\u001b[32m171\u001b[39m model = \u001b[43mresponse_model\u001b[49m\u001b[43m.\u001b[49m\u001b[43mfrom_response\u001b[49m\u001b[43m(\u001b[49m\n\u001b[32m    172\u001b[39m \u001b[43m    \u001b[49m\u001b[43mresponse\u001b[49m\u001b[43m,\u001b[49m\n\u001b[32m    173\u001b[39m \u001b[43m    \u001b[49m\u001b[43mvalidation_context\u001b[49m\u001b[43m=\u001b[49m\u001b[43mvalidation_context\u001b[49m\u001b[43m,\u001b[49m\n\u001b[32m    174\u001b[39m \u001b[43m    \u001b[49m\u001b[43mstrict\u001b[49m\u001b[43m=\u001b[49m\u001b[43mstrict\u001b[49m\u001b[43m,\u001b[49m\n\u001b[32m    175\u001b[39m \u001b[43m    \u001b[49m\u001b[43mmode\u001b[49m\u001b[43m=\u001b[49m\u001b[43mmode\u001b[49m\u001b[43m,\u001b[49m\n\u001b[32m    176\u001b[39m \u001b[43m\u001b[49m\u001b[43m)\u001b[49m\n\u001b[32m    178\u001b[39m \u001b[38;5;66;03m# ? This really hints at the fact that we need a better way of\u001b[39;00m\n\u001b[32m    179\u001b[39m \u001b[38;5;66;03m# ? attaching usage data and the raw response to the model we return.\u001b[39;00m\n",
      "\u001b[36mFile \u001b[39m\u001b[32mc:\\Users\\shive\\OneDrive\\Documents\\Python\\DMI\\venv\\Lib\\site-packages\\instructor\\function_calls.py:284\u001b[39m, in \u001b[36mOpenAISchema.from_response\u001b[39m\u001b[34m(cls, completion, validation_context, strict, mode)\u001b[39m\n\u001b[32m    274\u001b[39m \u001b[38;5;28;01mif\u001b[39;00m mode \u001b[38;5;129;01min\u001b[39;00m {\n\u001b[32m    275\u001b[39m     Mode.JSON,\n\u001b[32m    276\u001b[39m     Mode.JSON_SCHEMA,\n\u001b[32m   (...)\u001b[39m\u001b[32m    282\u001b[39m     Mode.OPENROUTER_STRUCTURED_OUTPUTS,\n\u001b[32m    283\u001b[39m }:\n\u001b[32m--> \u001b[39m\u001b[32m284\u001b[39m     \u001b[38;5;28;01mreturn\u001b[39;00m \u001b[38;5;28;43mcls\u001b[39;49m\u001b[43m.\u001b[49m\u001b[43mparse_json\u001b[49m\u001b[43m(\u001b[49m\u001b[43mcompletion\u001b[49m\u001b[43m,\u001b[49m\u001b[43m \u001b[49m\u001b[43mvalidation_context\u001b[49m\u001b[43m,\u001b[49m\u001b[43m \u001b[49m\u001b[43mstrict\u001b[49m\u001b[43m)\u001b[49m\n\u001b[32m    286\u001b[39m \u001b[38;5;28;01mraise\u001b[39;00m \u001b[38;5;167;01mValueError\u001b[39;00m(\u001b[33mf\u001b[39m\u001b[33m\"\u001b[39m\u001b[33mInvalid patch mode: \u001b[39m\u001b[38;5;132;01m{\u001b[39;00mmode\u001b[38;5;132;01m}\u001b[39;00m\u001b[33m\"\u001b[39m)\n",
      "\u001b[36mFile \u001b[39m\u001b[32mc:\\Users\\shive\\OneDrive\\Documents\\Python\\DMI\\venv\\Lib\\site-packages\\instructor\\function_calls.py:658\u001b[39m, in \u001b[36mOpenAISchema.parse_json\u001b[39m\u001b[34m(cls, completion, validation_context, strict)\u001b[39m\n\u001b[32m    657\u001b[39m \u001b[38;5;66;03m# Validate the model from the JSON\u001b[39;00m\n\u001b[32m--> \u001b[39m\u001b[32m658\u001b[39m \u001b[38;5;28;01mreturn\u001b[39;00m \u001b[43m_validate_model_from_json\u001b[49m\u001b[43m(\u001b[49m\u001b[38;5;28;43mcls\u001b[39;49m\u001b[43m,\u001b[49m\u001b[43m \u001b[49m\u001b[43mjson_content\u001b[49m\u001b[43m,\u001b[49m\u001b[43m \u001b[49m\u001b[43mvalidation_context\u001b[49m\u001b[43m,\u001b[49m\u001b[43m \u001b[49m\u001b[43mstrict\u001b[49m\u001b[43m)\u001b[49m\n",
      "\u001b[36mFile \u001b[39m\u001b[32mc:\\Users\\shive\\OneDrive\\Documents\\Python\\DMI\\venv\\Lib\\site-packages\\instructor\\function_calls.py:98\u001b[39m, in \u001b[36m_validate_model_from_json\u001b[39m\u001b[34m(cls, json_str, validation_context, strict)\u001b[39m\n\u001b[32m     96\u001b[39m \u001b[38;5;28;01mfrom\u001b[39;00m\u001b[38;5;250m \u001b[39m\u001b[34;01minstructor\u001b[39;00m\u001b[34;01m.\u001b[39;00m\u001b[34;01mexceptions\u001b[39;00m\u001b[38;5;250m \u001b[39m\u001b[38;5;28;01mimport\u001b[39;00m ValidationError \u001b[38;5;28;01mas\u001b[39;00m InstructorValidationError\n\u001b[32m---> \u001b[39m\u001b[32m98\u001b[39m \u001b[38;5;28;01mraise\u001b[39;00m InstructorValidationError(\n\u001b[32m     99\u001b[39m     \u001b[33mf\u001b[39m\u001b[33m\"\u001b[39m\u001b[33mFailed to validate model \u001b[39m\u001b[38;5;132;01m{\u001b[39;00m\u001b[38;5;28mcls\u001b[39m.\u001b[34m__name__\u001b[39m\u001b[38;5;132;01m}\u001b[39;00m\u001b[33m: \u001b[39m\u001b[38;5;132;01m{\u001b[39;00m\u001b[38;5;28mstr\u001b[39m(e)\u001b[38;5;132;01m}\u001b[39;00m\u001b[33m\"\u001b[39m\n\u001b[32m    100\u001b[39m ) \u001b[38;5;28;01mfrom\u001b[39;00m\u001b[38;5;250m \u001b[39m\u001b[34;01me\u001b[39;00m\n",
      "\u001b[31mValidationError\u001b[39m: Failed to validate model NPCList: 1 validation error for NPCList\n  Input should be a valid array [type=list_type, input_value={'$schema': 'https://json...'NPC', 'type': 'object'}, input_type=dict]\n    For further information visit https://errors.pydantic.dev/2.11/v/list_type",
      "\nThe above exception was the direct cause of the following exception:\n",
      "\u001b[31mRetryError\u001b[39m                                Traceback (most recent call last)",
      "\u001b[36mFile \u001b[39m\u001b[32mc:\\Users\\shive\\OneDrive\\Documents\\Python\\DMI\\venv\\Lib\\site-packages\\instructor\\retry.py:181\u001b[39m, in \u001b[36mretry_sync\u001b[39m\u001b[34m(func, response_model, args, kwargs, context, max_retries, strict, mode, hooks)\u001b[39m\n\u001b[32m    180\u001b[39m response = \u001b[38;5;28;01mNone\u001b[39;00m\n\u001b[32m--> \u001b[39m\u001b[32m181\u001b[39m \u001b[43m\u001b[49m\u001b[38;5;28;43;01mfor\u001b[39;49;00m\u001b[43m \u001b[49m\u001b[43mattempt\u001b[49m\u001b[43m \u001b[49m\u001b[38;5;129;43;01min\u001b[39;49;00m\u001b[43m \u001b[49m\u001b[43mmax_retries\u001b[49m\u001b[43m:\u001b[49m\n\u001b[32m    182\u001b[39m \u001b[43m    \u001b[49m\u001b[38;5;28;43;01mwith\u001b[39;49;00m\u001b[43m \u001b[49m\u001b[43mattempt\u001b[49m\u001b[43m:\u001b[49m\n",
      "\u001b[36mFile \u001b[39m\u001b[32mc:\\Users\\shive\\OneDrive\\Documents\\Python\\DMI\\venv\\Lib\\site-packages\\tenacity\\__init__.py:445\u001b[39m, in \u001b[36mBaseRetrying.__iter__\u001b[39m\u001b[34m(self)\u001b[39m\n\u001b[32m    444\u001b[39m \u001b[38;5;28;01mwhile\u001b[39;00m \u001b[38;5;28;01mTrue\u001b[39;00m:\n\u001b[32m--> \u001b[39m\u001b[32m445\u001b[39m     do = \u001b[38;5;28;43mself\u001b[39;49m\u001b[43m.\u001b[49m\u001b[43miter\u001b[49m\u001b[43m(\u001b[49m\u001b[43mretry_state\u001b[49m\u001b[43m=\u001b[49m\u001b[43mretry_state\u001b[49m\u001b[43m)\u001b[49m\n\u001b[32m    446\u001b[39m     \u001b[38;5;28;01mif\u001b[39;00m \u001b[38;5;28misinstance\u001b[39m(do, DoAttempt):\n",
      "\u001b[36mFile \u001b[39m\u001b[32mc:\\Users\\shive\\OneDrive\\Documents\\Python\\DMI\\venv\\Lib\\site-packages\\tenacity\\__init__.py:378\u001b[39m, in \u001b[36mBaseRetrying.iter\u001b[39m\u001b[34m(self, retry_state)\u001b[39m\n\u001b[32m    377\u001b[39m \u001b[38;5;28;01mfor\u001b[39;00m action \u001b[38;5;129;01min\u001b[39;00m \u001b[38;5;28mself\u001b[39m.iter_state.actions:\n\u001b[32m--> \u001b[39m\u001b[32m378\u001b[39m     result = \u001b[43maction\u001b[49m\u001b[43m(\u001b[49m\u001b[43mretry_state\u001b[49m\u001b[43m)\u001b[49m\n\u001b[32m    379\u001b[39m \u001b[38;5;28;01mreturn\u001b[39;00m result\n",
      "\u001b[36mFile \u001b[39m\u001b[32mc:\\Users\\shive\\OneDrive\\Documents\\Python\\DMI\\venv\\Lib\\site-packages\\tenacity\\__init__.py:421\u001b[39m, in \u001b[36mBaseRetrying._post_stop_check_actions.<locals>.exc_check\u001b[39m\u001b[34m(rs)\u001b[39m\n\u001b[32m    420\u001b[39m     \u001b[38;5;28;01mraise\u001b[39;00m retry_exc.reraise()\n\u001b[32m--> \u001b[39m\u001b[32m421\u001b[39m \u001b[38;5;28;01mraise\u001b[39;00m retry_exc \u001b[38;5;28;01mfrom\u001b[39;00m\u001b[38;5;250m \u001b[39m\u001b[34;01mfut\u001b[39;00m\u001b[34;01m.\u001b[39;00m\u001b[34;01mexception\u001b[39;00m()\n",
      "\u001b[31mRetryError\u001b[39m: RetryError[<Future at 0x19d55b24e90 state=finished raised ValidationError>]",
      "\nThe above exception was the direct cause of the following exception:\n",
      "\u001b[31mInstructorRetryException\u001b[39m                  Traceback (most recent call last)",
      "\u001b[36mCell\u001b[39m\u001b[36m \u001b[39m\u001b[32mIn[3]\u001b[39m\u001b[32m, line 4\u001b[39m\n\u001b[32m      1\u001b[39m question = \u001b[33m\"\u001b[39m\u001b[33mMake 5 new town characters for Gallowmere\u001b[39m\u001b[33m\"\u001b[39m\n\u001b[32m      2\u001b[39m docs, ids, metadata = chroma_rag.retrieve(question, k=\u001b[32m20\u001b[39m)\n\u001b[32m----> \u001b[39m\u001b[32m4\u001b[39m response = \u001b[43minstructor_assistant\u001b[49m\u001b[43m.\u001b[49m\u001b[43mask\u001b[49m\u001b[43m(\u001b[49m\u001b[43mquestion\u001b[49m\u001b[43m=\u001b[49m\u001b[43mquestion\u001b[49m\u001b[43m,\u001b[49m\u001b[43m \u001b[49m\u001b[43mcontext\u001b[49m\u001b[43m=\u001b[49m\u001b[43mdocs\u001b[49m\u001b[43m,\u001b[49m\u001b[43m \u001b[49m\u001b[43mresponse_model\u001b[49m\u001b[43m=\u001b[49m\u001b[43mNPCList\u001b[49m\u001b[43m)\u001b[49m\n\u001b[32m      5\u001b[39m \u001b[38;5;28mprint\u001b[39m(response.model_dump_json(indent=\u001b[32m2\u001b[39m))\n",
      "\u001b[36mFile \u001b[39m\u001b[32mc:\\Users\\shive\\OneDrive\\Documents\\Python\\DMI\\llm\\responses.py:103\u001b[39m, in \u001b[36mInstructorAssistant.ask\u001b[39m\u001b[34m(self, question, context, response_model)\u001b[39m\n\u001b[32m     96\u001b[39m \u001b[38;5;28;01mdef\u001b[39;00m\u001b[38;5;250m \u001b[39m\u001b[34mask\u001b[39m(\n\u001b[32m     97\u001b[39m     \u001b[38;5;28mself\u001b[39m,\n\u001b[32m     98\u001b[39m     question: \u001b[38;5;28mstr\u001b[39m,\n\u001b[32m     99\u001b[39m     context: \u001b[38;5;28mstr\u001b[39m,\n\u001b[32m    100\u001b[39m     response_model: Type[T],\n\u001b[32m    101\u001b[39m ):\n\u001b[32m    102\u001b[39m     prompt = \u001b[38;5;28mself\u001b[39m.build_prompt(question, context)\n\u001b[32m--> \u001b[39m\u001b[32m103\u001b[39m     response = \u001b[38;5;28;43mself\u001b[39;49m\u001b[43m.\u001b[49m\u001b[43mclient\u001b[49m\u001b[43m.\u001b[49m\u001b[43mchat\u001b[49m\u001b[43m.\u001b[49m\u001b[43mcompletions\u001b[49m\u001b[43m.\u001b[49m\u001b[43mcreate\u001b[49m\u001b[43m(\u001b[49m\n\u001b[32m    104\u001b[39m \u001b[43m        \u001b[49m\u001b[43mmodel\u001b[49m\u001b[43m=\u001b[49m\u001b[38;5;28;43mself\u001b[39;49m\u001b[43m.\u001b[49m\u001b[43mmodel\u001b[49m\u001b[43m,\u001b[49m\n\u001b[32m    105\u001b[39m \u001b[43m        \u001b[49m\u001b[43mmessages\u001b[49m\u001b[43m=\u001b[49m\u001b[43m[\u001b[49m\u001b[43m{\u001b[49m\u001b[33;43m\"\u001b[39;49m\u001b[33;43mrole\u001b[39;49m\u001b[33;43m\"\u001b[39;49m\u001b[43m:\u001b[49m\u001b[43m \u001b[49m\u001b[33;43m\"\u001b[39;49m\u001b[33;43muser\u001b[39;49m\u001b[33;43m\"\u001b[39;49m\u001b[43m,\u001b[49m\u001b[43m \u001b[49m\u001b[33;43m\"\u001b[39;49m\u001b[33;43mcontent\u001b[39;49m\u001b[33;43m\"\u001b[39;49m\u001b[43m:\u001b[49m\u001b[43m \u001b[49m\u001b[43mprompt\u001b[49m\u001b[43m}\u001b[49m\u001b[43m]\u001b[49m\u001b[43m,\u001b[49m\n\u001b[32m    106\u001b[39m \u001b[43m        \u001b[49m\u001b[43mresponse_model\u001b[49m\u001b[43m=\u001b[49m\u001b[43mresponse_model\u001b[49m\u001b[43m,\u001b[49m\n\u001b[32m    107\u001b[39m \u001b[43m    \u001b[49m\u001b[43m)\u001b[49m\n\u001b[32m    108\u001b[39m     \u001b[38;5;28;01mreturn\u001b[39;00m response\n",
      "\u001b[36mFile \u001b[39m\u001b[32mc:\\Users\\shive\\OneDrive\\Documents\\Python\\DMI\\venv\\Lib\\site-packages\\instructor\\client.py:366\u001b[39m, in \u001b[36mInstructor.create\u001b[39m\u001b[34m(self, response_model, messages, max_retries, validation_context, context, strict, **kwargs)\u001b[39m\n\u001b[32m    354\u001b[39m \u001b[38;5;28;01mdef\u001b[39;00m\u001b[38;5;250m \u001b[39m\u001b[34mcreate\u001b[39m(\n\u001b[32m    355\u001b[39m     \u001b[38;5;28mself\u001b[39m,\n\u001b[32m    356\u001b[39m     response_model: \u001b[38;5;28mtype\u001b[39m[T] | \u001b[38;5;28;01mNone\u001b[39;00m,\n\u001b[32m   (...)\u001b[39m\u001b[32m    362\u001b[39m     **kwargs: Any,\n\u001b[32m    363\u001b[39m ) -> T | Any | Awaitable[T] | Awaitable[Any]:\n\u001b[32m    364\u001b[39m     kwargs = \u001b[38;5;28mself\u001b[39m.handle_kwargs(kwargs)\n\u001b[32m--> \u001b[39m\u001b[32m366\u001b[39m     \u001b[38;5;28;01mreturn\u001b[39;00m \u001b[38;5;28;43mself\u001b[39;49m\u001b[43m.\u001b[49m\u001b[43mcreate_fn\u001b[49m\u001b[43m(\u001b[49m\n\u001b[32m    367\u001b[39m \u001b[43m        \u001b[49m\u001b[43mresponse_model\u001b[49m\u001b[43m=\u001b[49m\u001b[43mresponse_model\u001b[49m\u001b[43m,\u001b[49m\n\u001b[32m    368\u001b[39m \u001b[43m        \u001b[49m\u001b[43mmessages\u001b[49m\u001b[43m=\u001b[49m\u001b[43mmessages\u001b[49m\u001b[43m,\u001b[49m\n\u001b[32m    369\u001b[39m \u001b[43m        \u001b[49m\u001b[43mmax_retries\u001b[49m\u001b[43m=\u001b[49m\u001b[43mmax_retries\u001b[49m\u001b[43m,\u001b[49m\n\u001b[32m    370\u001b[39m \u001b[43m        \u001b[49m\u001b[43mvalidation_context\u001b[49m\u001b[43m=\u001b[49m\u001b[43mvalidation_context\u001b[49m\u001b[43m,\u001b[49m\n\u001b[32m    371\u001b[39m \u001b[43m        \u001b[49m\u001b[43mcontext\u001b[49m\u001b[43m=\u001b[49m\u001b[43mcontext\u001b[49m\u001b[43m,\u001b[49m\n\u001b[32m    372\u001b[39m \u001b[43m        \u001b[49m\u001b[43mstrict\u001b[49m\u001b[43m=\u001b[49m\u001b[43mstrict\u001b[49m\u001b[43m,\u001b[49m\n\u001b[32m    373\u001b[39m \u001b[43m        \u001b[49m\u001b[43mhooks\u001b[49m\u001b[43m=\u001b[49m\u001b[38;5;28;43mself\u001b[39;49m\u001b[43m.\u001b[49m\u001b[43mhooks\u001b[49m\u001b[43m,\u001b[49m\n\u001b[32m    374\u001b[39m \u001b[43m        \u001b[49m\u001b[43m*\u001b[49m\u001b[43m*\u001b[49m\u001b[43mkwargs\u001b[49m\u001b[43m,\u001b[49m\n\u001b[32m    375\u001b[39m \u001b[43m    \u001b[49m\u001b[43m)\u001b[49m\n",
      "\u001b[36mFile \u001b[39m\u001b[32mc:\\Users\\shive\\OneDrive\\Documents\\Python\\DMI\\venv\\Lib\\site-packages\\instructor\\patch.py:195\u001b[39m, in \u001b[36mpatch.<locals>.new_create_sync\u001b[39m\u001b[34m(response_model, validation_context, context, max_retries, strict, hooks, *args, **kwargs)\u001b[39m\n\u001b[32m    189\u001b[39m response_model, new_kwargs = handle_response_model(\n\u001b[32m    190\u001b[39m     response_model=response_model, mode=mode, **kwargs\n\u001b[32m    191\u001b[39m )  \u001b[38;5;66;03m# type: ignore\u001b[39;00m\n\u001b[32m    193\u001b[39m new_kwargs = handle_templating(new_kwargs, mode=mode, context=context)\n\u001b[32m--> \u001b[39m\u001b[32m195\u001b[39m response = \u001b[43mretry_sync\u001b[49m\u001b[43m(\u001b[49m\n\u001b[32m    196\u001b[39m \u001b[43m    \u001b[49m\u001b[43mfunc\u001b[49m\u001b[43m=\u001b[49m\u001b[43mfunc\u001b[49m\u001b[43m,\u001b[49m\u001b[43m  \u001b[49m\u001b[38;5;66;43;03m# type: ignore\u001b[39;49;00m\n\u001b[32m    197\u001b[39m \u001b[43m    \u001b[49m\u001b[43mresponse_model\u001b[49m\u001b[43m=\u001b[49m\u001b[43mresponse_model\u001b[49m\u001b[43m,\u001b[49m\n\u001b[32m    198\u001b[39m \u001b[43m    \u001b[49m\u001b[43mcontext\u001b[49m\u001b[43m=\u001b[49m\u001b[43mcontext\u001b[49m\u001b[43m,\u001b[49m\n\u001b[32m    199\u001b[39m \u001b[43m    \u001b[49m\u001b[43mmax_retries\u001b[49m\u001b[43m=\u001b[49m\u001b[43mmax_retries\u001b[49m\u001b[43m,\u001b[49m\n\u001b[32m    200\u001b[39m \u001b[43m    \u001b[49m\u001b[43margs\u001b[49m\u001b[43m=\u001b[49m\u001b[43margs\u001b[49m\u001b[43m,\u001b[49m\n\u001b[32m    201\u001b[39m \u001b[43m    \u001b[49m\u001b[43mhooks\u001b[49m\u001b[43m=\u001b[49m\u001b[43mhooks\u001b[49m\u001b[43m,\u001b[49m\n\u001b[32m    202\u001b[39m \u001b[43m    \u001b[49m\u001b[43mstrict\u001b[49m\u001b[43m=\u001b[49m\u001b[43mstrict\u001b[49m\u001b[43m,\u001b[49m\n\u001b[32m    203\u001b[39m \u001b[43m    \u001b[49m\u001b[43mkwargs\u001b[49m\u001b[43m=\u001b[49m\u001b[43mnew_kwargs\u001b[49m\u001b[43m,\u001b[49m\n\u001b[32m    204\u001b[39m \u001b[43m    \u001b[49m\u001b[43mmode\u001b[49m\u001b[43m=\u001b[49m\u001b[43mmode\u001b[49m\u001b[43m,\u001b[49m\n\u001b[32m    205\u001b[39m \u001b[43m\u001b[49m\u001b[43m)\u001b[49m\n\u001b[32m    206\u001b[39m \u001b[38;5;28;01mreturn\u001b[39;00m response\n",
      "\u001b[36mFile \u001b[39m\u001b[32mc:\\Users\\shive\\OneDrive\\Documents\\Python\\DMI\\venv\\Lib\\site-packages\\instructor\\retry.py:212\u001b[39m, in \u001b[36mretry_sync\u001b[39m\u001b[34m(func, response_model, args, kwargs, context, max_retries, strict, mode, hooks)\u001b[39m\n\u001b[32m    210\u001b[39m \u001b[38;5;28;01mexcept\u001b[39;00m RetryError \u001b[38;5;28;01mas\u001b[39;00m e:\n\u001b[32m    211\u001b[39m     logger.debug(\u001b[33mf\u001b[39m\u001b[33m\"\u001b[39m\u001b[33mRetry error: \u001b[39m\u001b[38;5;132;01m{\u001b[39;00me\u001b[38;5;132;01m}\u001b[39;00m\u001b[33m\"\u001b[39m)\n\u001b[32m--> \u001b[39m\u001b[32m212\u001b[39m     \u001b[38;5;28;01mraise\u001b[39;00m InstructorRetryException(\n\u001b[32m    213\u001b[39m         e.last_attempt._exception,\n\u001b[32m    214\u001b[39m         last_completion=response,\n\u001b[32m    215\u001b[39m         n_attempts=attempt.retry_state.attempt_number,\n\u001b[32m    216\u001b[39m         \u001b[38;5;66;03m#! deprecate messages soon\u001b[39;00m\n\u001b[32m    217\u001b[39m         messages=extract_messages(\n\u001b[32m    218\u001b[39m             kwargs\n\u001b[32m    219\u001b[39m         ),  \u001b[38;5;66;03m# Use the optimized function instead of nested lookups\u001b[39;00m\n\u001b[32m    220\u001b[39m         create_kwargs=kwargs,\n\u001b[32m    221\u001b[39m         total_usage=total_usage,\n\u001b[32m    222\u001b[39m     ) \u001b[38;5;28;01mfrom\u001b[39;00m\u001b[38;5;250m \u001b[39m\u001b[34;01me\u001b[39;00m\n",
      "\u001b[31mInstructorRetryException\u001b[39m: Failed to validate model NPCList: 1 validation error for NPCList\n  Input should be a valid array [type=list_type, input_value={'$schema': 'https://json...'NPC', 'type': 'object'}, input_type=dict]\n    For further information visit https://errors.pydantic.dev/2.11/v/list_type"
     ]
    }
   ],
   "source": [
    "question = \"Make 3 new town characters for Gallowmere\"\n",
    "docs, ids, metadata = chroma_rag.retrieve(question, k=20)\n",
    "\n",
    "response = instructor_assistant.ask(question=question, context=docs, response_model=NPCList)\n",
    "print(response.model_dump_json(indent=2))"
   ]
  },
  {
   "cell_type": "code",
   "execution_count": 3,
   "id": "74b41279",
   "metadata": {},
   "outputs": [
    {
     "name": "stdout",
     "output_type": "stream",
     "text": [
      "{\n",
      "  \"name\": \"Ruins of the Ancient Quarry\",\n",
      "  \"type\": \"Abandoned mine\",\n",
      "  \"description\": \"A long-abandoned quarry deep in the woods, said to have been the site of a catastrophic collapse. The entrance is shrouded in mystery and danger.\",\n",
      "  \"danger_level\": 8,\n",
      "  \"rumors\": [\n",
      "    \"Whispers of strange noises coming from within the ruin at night\",\n",
      "    \"Hunters who ventured into the quarry never returned\",\n",
      "    \"An ancient, petrified body was found near the entrance\"\n",
      "  ]\n",
      "}\n"
     ]
    }
   ],
   "source": [
    "question = \"Make a new location for the players to explore within Gallowmere\"\n",
    "docs, ids, metadata = chroma_rag.retrieve(question, k=20)\n",
    "\n",
    "response = instructor_assistant.ask(question=question, context=docs, response_model=Location)\n",
    "print(response.model_dump_json(indent=2))"
   ]
  },
  {
   "cell_type": "code",
   "execution_count": 8,
   "id": "7bd5c538",
   "metadata": {},
   "outputs": [
    {
     "name": "stdout",
     "output_type": "stream",
     "text": [
      "{\n",
      "  \"name\": \"Miner's Pick\",\n",
      "  \"item_type\": \"tool\",\n",
      "  \"rarity\": \"common\",\n",
      "  \"description\": \"A worn miner's pick with a rusty head and wooden handle, used by miners to extract ore from the quarry.\",\n",
      "  \"effect\": \"\"\n",
      "}\n"
     ]
    }
   ],
   "source": [
    "question = \"Make an item within the Gallowmere Hollow that is mundane\"\n",
    "docs, ids, metadata = chroma_rag.retrieve(question, k=20)\n",
    "\n",
    "response = instructor_assistant.ask(question=question, context=docs, response_model=Item)\n",
    "print(response.model_dump_json(indent=2))"
   ]
  },
  {
   "cell_type": "code",
   "execution_count": 2,
   "id": "4068ec7c",
   "metadata": {},
   "outputs": [
    {
     "name": "stdout",
     "output_type": "stream",
     "text": [
      "{\n",
      "  \"text\": \"Some say Councillor Bren is hiding more than just the truth – he's also hiding from it.\",\n",
      "  \"truthfulness\": \"Rumor\",\n",
      "  \"source\": \"Whispers from around town, but nothing concrete can be found...\"\n",
      "}\n"
     ]
    }
   ],
   "source": [
    "question = \"Make a rumour about Councillor Bren\"\n",
    "docs, ids, metadata = chroma_rag.retrieve(question, k=20)\n",
    "\n",
    "response = instructor_assistant.ask(question=question, context=docs, response_model=Rumour)\n",
    "print(response.model_dump_json(indent=2))"
   ]
  },
  {
   "cell_type": "code",
   "execution_count": 5,
   "id": "daef867f",
   "metadata": {},
   "outputs": [
    {
     "name": "stdout",
     "output_type": "stream",
     "text": [
      "{\n",
      "  \"name\": \"Eiravyn\",\n",
      "  \"culture\": \"Elvish\",\n",
      "  \"meaning\": \"Elf of the sea\"\n",
      "}\n"
     ]
    }
   ],
   "source": [
    "question = \"Make a random name for me\"\n",
    "docs, ids, metadata = chroma_rag.retrieve(question, k=20)\n",
    "\n",
    "response = instructor_assistant.ask(question=question, context=docs, response_model=GeneratedName)\n",
    "print(response.model_dump_json(indent=2))"
   ]
  }
 ],
 "metadata": {
  "kernelspec": {
   "display_name": "venv",
   "language": "python",
   "name": "python3"
  },
  "language_info": {
   "codemirror_mode": {
    "name": "ipython",
    "version": 3
   },
   "file_extension": ".py",
   "mimetype": "text/x-python",
   "name": "python",
   "nbconvert_exporter": "python",
   "pygments_lexer": "ipython3",
   "version": "3.12.0"
  }
 },
 "nbformat": 4,
 "nbformat_minor": 5
}
