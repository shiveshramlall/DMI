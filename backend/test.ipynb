{
 "cells": [
  {
   "cell_type": "code",
   "execution_count": null,
   "id": "919f7ede",
   "metadata": {},
   "outputs": [],
   "source": [
    "# from openai import OpenAI\n",
    "# from pydantic import BaseModel, Field\n",
    "# from typing import List\n",
    "# import os\n",
    "# import instructor\n",
    "# from rag.vector import ChromaRag\n",
    "\n",
    "# class Character(BaseModel):\n",
    "#     name: str\n",
    "#     description: int\n",
    "#     fact: List[str] = Field(..., description=\"A list of facts about the character\")\n",
    "\n",
    "# class Answer(BaseModel):\n",
    "#     answer: str = Field(..., description=\"Exact requirement as per the user's query.\")\n",
    "#     references: List[str] = Field(..., description=\"Key points or facts pulled from the documents. Include Metadata if available.\")\n",
    "\n",
    "# client = instructor.from_openai(\n",
    "#     OpenAI(\n",
    "#         base_url=\"http://localhost:11434/v1\",\n",
    "#         api_key=\"ollama\",  \n",
    "#     ),\n",
    "#     mode=instructor.Mode.JSON,\n",
    "# )\n",
    "\n",
    "# mdoel_embed = \"mxbai-embed-large\"\n",
    "# model_chat = \"llama3.1:8b\"\n",
    "# db_path = \"markdown_db\"\n",
    "# source_dir = r\"C:\\Users\\shive\\OneDrive\\Documents\\DnD\\Adventures\\Stone-Heart Hollow\"\n",
    "# top_k = 5\n",
    "\n",
    "# collection_name = os.path.basename(source_dir)\n",
    "# chroma_rag = ChromaRag(\n",
    "#         source_directory=source_dir,\n",
    "#         collection_name=collection_name,\n",
    "#         db_path=db_path,\n",
    "#         model_name=mdoel_embed\n",
    "#     )\n",
    "\n",
    "# question = \"What was in the letter sent to Councillor Bren?\"\n",
    "# docs, ids, metadata = chroma_rag.retrieve(question, k=top_k)\n",
    "# docs_text = \"\\n---\\n\".join(docs)\n",
    "# # print(docs)\n",
    "# prompt = f\"\"\"\n",
    "#     ==================\n",
    "#     You are a virtual assistant for a Dungeon Master running Dungeons & Dragons (D&D) sessions.\n",
    "\n",
    "#     - Helping prepare and run sessions by providing ideas, rules clarifications, encounter design, and narrative suggestions.\n",
    "\n",
    "#     - Answering questions using provided campaign documents, focusing only on the relevant content.\n",
    "\n",
    "#     - If no documents are provided, rely on your general D&D knowledge (primarily 5th Edition unless specified).\n",
    "\n",
    "#     Be accurate, concise, and helpful. Prioritize clarity when referencing documents. Prioritize clarity and creativity when assisting with gameplay and storytelling.\n",
    "#     ==================\n",
    "\n",
    "#     ==================\n",
    "#     DOCUMENT CONTEXT:\n",
    "#     {docs_text}\n",
    "#     ==================\n",
    "\n",
    "#     ==================\n",
    "#     Query:\n",
    "#     {question}\n",
    "#     ==================\n",
    "# \"\"\"\n",
    "\n",
    "# resp = client.chat.completions.create(\n",
    "#     model=\"gemma3\",\n",
    "#     messages=[\n",
    "#         {\n",
    "#             \"role\": \"user\",\n",
    "#             \"content\": prompt,\n",
    "#         }\n",
    "#     ],\n",
    "#     response_model=Answer,\n",
    "# )\n",
    "# print(resp.model_dump_json(indent=2))\n"
   ]
  },
  {
   "cell_type": "code",
   "execution_count": 1,
   "id": "a587cc45",
   "metadata": {},
   "outputs": [
    {
     "name": "stdout",
     "output_type": "stream",
     "text": [
      "{\n",
      "  \"answer\": \"The letter mentioned that you sealed the wound but not the rot beneath. The stone remembers, and the earth watches.\",\n",
      "  \"references\": [\n",
      "    \"Letter from Kern to Councillor Bren: \\\"You built your town atop sacred ground and buried the truth beneath rock and silence.\\\"\",\n",
      "    \"letter warning the town to flee and stop all activity in the Hollows\"\n",
      "  ]\n",
      "}\n"
     ]
    }
   ],
   "source": [
    "from rag.vector import ChromaRag\n",
    "from llm.responses import *\n",
    "import os\n",
    "\n",
    "model_embed = \"mxbai-embed-large\"\n",
    "model_chat = \"llama3.1:8b\"\n",
    "db_path = \"markdown_db\"\n",
    "source_dir = r\"C:\\Users\\shive\\OneDrive\\Documents\\DnD\\Adventures\\Stone-Heart Hollow\"\n",
    "top_k = 5\n",
    "\n",
    "collection_name = os.path.basename(source_dir)\n",
    "chroma_rag = ChromaRag(\n",
    "        source_directory=source_dir,\n",
    "        collection_name=collection_name,\n",
    "        db_path=db_path,\n",
    "        model_name=model_embed\n",
    "    )\n",
    "\n",
    "instructor_assistant = InstructorAssistant(model=model_chat)\n",
    "\n",
    "question = \"What was in the letter sent to Councillor Bren?\"\n",
    "docs, ids, metadata = chroma_rag.retrieve(question, k=top_k)\n",
    "\n",
    "response = instructor_assistant.ask(question=question, context=docs, response_model=Answer)\n",
    "print(response.model_dump_json(indent=2))"
   ]
  },
  {
   "cell_type": "code",
   "execution_count": 2,
   "id": "69173700",
   "metadata": {},
   "outputs": [
    {
     "name": "stdout",
     "output_type": "stream",
     "text": [
      "{\n",
      "  \"name\": \"Old Fenya\",\n",
      "  \"race\": \"halfling\",\n",
      "  \"role\": \"retired miner and tavern owner\",\n",
      "  \"description\": \"has a glass eye and a sharp tongue, owns the Mine Down Tavern where rumors of ‘statue-men’ and cursed stones swirl over sour ale\",\n",
      "  \"motivation\": \"united the townspeople against Kern's activities in the quarry\",\n",
      "  \"secret\": \"Fenya was involved in the initial suppression of the cult, but the authorities found no evidence\"\n",
      "}\n"
     ]
    }
   ],
   "source": [
    "question = \"Make a new town character for Gallowmere\"\n",
    "docs, ids, metadata = chroma_rag.retrieve(question, k=20)\n",
    "\n",
    "response = instructor_assistant.ask(question=question, context=docs, response_model=NPC)\n",
    "print(response.model_dump_json(indent=2))"
   ]
  },
  {
   "cell_type": "code",
   "execution_count": 2,
   "id": "fe64e777",
   "metadata": {},
   "outputs": [
    {
     "name": "stdout",
     "output_type": "stream",
     "text": [
      "{\n",
      "  \"NPCs\": [\n",
      "    {\n",
      "      \"name\": \"Dagna Grimbold\",\n",
      "      \"race\": \"dwarf\",\n",
      "      \"role\": \"blacksmith\",\n",
      "      \"description\": \"A stout and proud dwarf blacksmith, skilled in crafting fine steel.\",\n",
      "      \"motivation\": \"To protect Gallowmere's mines and ensure the town's prosperity through solid craftsmanship.\",\n",
      "      \"secret\": \"Dagna has a secret recipe for imbuing metal with magical properties.\"\n",
      "    },\n",
      "    {\n",
      "      \"name\": \"Bristle Burrowes\",\n",
      "      \"race\": \"halfling\",\n",
      "      \"role\": \"tavernkeeper\",\n",
      "      \"description\": \"A jovial halfling owner of the local tavern, with a penchant for storytelling and fine ale.\",\n",
      "      \"motivation\": \"To keep the spirits high in Gallowmere through laughter and camaraderie.\",\n",
      "      \"secret\": \"Bristle is secretly an accomplished bard.\"\n",
      "    },\n",
      "    {\n",
      "      \"name\": \"Eira Brightshield\",\n",
      "      \"race\": \"human\",\n",
      "      \"role\": \"guildmaster\",\n",
      "      \"description\": \"A no-nonsense human guildmaster, dedicated to organizing Gallowmere's miners and protecting their interests.\",\n",
      "      \"motivation\": \"To unite the people of Gallowmere through solidarity and cooperation.\",\n",
      "      \"secret\": \"Eira has a talent for diplomacy and negotiation.\"\n",
      "    }\n",
      "  ]\n",
      "}\n"
     ]
    }
   ],
   "source": [
    "question = \"Make 3 new town characters for Gallowmere\"\n",
    "docs, ids, metadata = chroma_rag.retrieve(question, k=20)\n",
    "\n",
    "response = instructor_assistant.ask(question=question, context=docs, response_model=NPCList)\n",
    "print(response.model_dump_json(indent=2))"
   ]
  },
  {
   "cell_type": "code",
   "execution_count": 3,
   "id": "74b41279",
   "metadata": {},
   "outputs": [
    {
     "name": "stdout",
     "output_type": "stream",
     "text": [
      "{\n",
      "  \"name\": \"Ruins of the Ancient Quarry\",\n",
      "  \"type\": \"Abandoned mine\",\n",
      "  \"description\": \"A long-abandoned quarry deep in the woods, said to have been the site of a catastrophic collapse. The entrance is shrouded in mystery and danger.\",\n",
      "  \"danger_level\": 8,\n",
      "  \"rumors\": [\n",
      "    \"Whispers of strange noises coming from within the ruin at night\",\n",
      "    \"Hunters who ventured into the quarry never returned\",\n",
      "    \"An ancient, petrified body was found near the entrance\"\n",
      "  ]\n",
      "}\n"
     ]
    }
   ],
   "source": [
    "question = \"Make a new location for the players to explore within Gallowmere\"\n",
    "docs, ids, metadata = chroma_rag.retrieve(question, k=20)\n",
    "\n",
    "response = instructor_assistant.ask(question=question, context=docs, response_model=Location)\n",
    "print(response.model_dump_json(indent=2))"
   ]
  },
  {
   "cell_type": "code",
   "execution_count": 8,
   "id": "7bd5c538",
   "metadata": {},
   "outputs": [
    {
     "name": "stdout",
     "output_type": "stream",
     "text": [
      "{\n",
      "  \"name\": \"Miner's Pick\",\n",
      "  \"item_type\": \"tool\",\n",
      "  \"rarity\": \"common\",\n",
      "  \"description\": \"A worn miner's pick with a rusty head and wooden handle, used by miners to extract ore from the quarry.\",\n",
      "  \"effect\": \"\"\n",
      "}\n"
     ]
    }
   ],
   "source": [
    "question = \"Make an item within the Gallowmere Hollow that is mundane\"\n",
    "docs, ids, metadata = chroma_rag.retrieve(question, k=20)\n",
    "\n",
    "response = instructor_assistant.ask(question=question, context=docs, response_model=Item)\n",
    "print(response.model_dump_json(indent=2))"
   ]
  },
  {
   "cell_type": "code",
   "execution_count": 2,
   "id": "4068ec7c",
   "metadata": {},
   "outputs": [
    {
     "name": "stdout",
     "output_type": "stream",
     "text": [
      "{\n",
      "  \"text\": \"Some say Councillor Bren is hiding more than just the truth – he's also hiding from it.\",\n",
      "  \"truthfulness\": \"Rumor\",\n",
      "  \"source\": \"Whispers from around town, but nothing concrete can be found...\"\n",
      "}\n"
     ]
    }
   ],
   "source": [
    "question = \"Make a rumour about Councillor Bren\"\n",
    "docs, ids, metadata = chroma_rag.retrieve(question, k=20)\n",
    "\n",
    "response = instructor_assistant.ask(question=question, context=docs, response_model=Rumour)\n",
    "print(response.model_dump_json(indent=2))"
   ]
  },
  {
   "cell_type": "code",
   "execution_count": 5,
   "id": "daef867f",
   "metadata": {},
   "outputs": [
    {
     "name": "stdout",
     "output_type": "stream",
     "text": [
      "{\n",
      "  \"name\": \"Eiravyn\",\n",
      "  \"culture\": \"Elvish\",\n",
      "  \"meaning\": \"Elf of the sea\"\n",
      "}\n"
     ]
    }
   ],
   "source": [
    "question = \"Make a random name for me\"\n",
    "docs, ids, metadata = chroma_rag.retrieve(question, k=20)\n",
    "\n",
    "response = instructor_assistant.ask(question=question, context=docs, response_model=GeneratedName)\n",
    "print(response.model_dump_json(indent=2))"
   ]
  }
 ],
 "metadata": {
  "kernelspec": {
   "display_name": ".venv",
   "language": "python",
   "name": "python3"
  },
  "language_info": {
   "codemirror_mode": {
    "name": "ipython",
    "version": 3
   },
   "file_extension": ".py",
   "mimetype": "text/x-python",
   "name": "python",
   "nbconvert_exporter": "python",
   "pygments_lexer": "ipython3",
   "version": "3.12.0"
  }
 },
 "nbformat": 4,
 "nbformat_minor": 5
}
